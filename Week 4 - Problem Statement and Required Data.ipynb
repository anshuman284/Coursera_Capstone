{
 "cells": [
  {
   "cell_type": "markdown",
   "metadata": {},
   "source": [
    "# Background"
   ]
  },
  {
   "cell_type": "markdown",
   "metadata": {},
   "source": [
    "In 2017, the world recorded about 9 million fire incidents. Of these incidents, India recorded 1.6 million fires and 27027 people lost their lives. India, alongside seven nations, including Pakistan, represented over half the number of deaths due to fire incidents. These stats are alarming and point out to a desperate need to build more fire staitions in the country.\n",
    "\n",
    "Today, India is a country with over 1.3 billion inhabitants, and it is crucial for the urban development authorities to identify optimal locations to build new fire stations. In this capstone project, I'll identify optimal locations for building new fire stations in the city of Pune, Maharashtra so that the fire-fighting teams can operate with the best possible efficiency."
   ]
  },
  {
   "cell_type": "markdown",
   "metadata": {},
   "source": [
    "# Workflow"
   ]
  },
  {
   "cell_type": "markdown",
   "metadata": {},
   "source": [
    "In order to find locations where building fire-stations would be most suitable, we'll need to:\n",
    "1. Identify the existing fire-stations.\n",
    "2. Understand how much reponse time can be considered optimal.\n",
    "3. Establish the distances response-teams can travel in optimal time.\n",
    "4. Plot these distances on the city map, and identify areas that are not covered.\n",
    "5. Suggest new fire stations in the most suitable locations in the areas that are not covered within the limits of the existing fire stations."
   ]
  },
  {
   "cell_type": "markdown",
   "metadata": {},
   "source": [
    "# Data-Required"
   ]
  },
  {
   "cell_type": "markdown",
   "metadata": {},
   "source": [
    "Step by step:\n",
    "\n",
    "1. I will be using the Google Maps API to identify the existing fire-stations in Pune city.\n",
    "2. For this study, I'll assume an optimal response time at 10 minutes.\n",
    "3. I'll be using Google Maps API to establish the time taken by a vehicle to travel from a fire-station to immediate neighborhoods.\n",
    "4. By segrigating regions that each fire-station can serve, we'll be able to visualize areas where there is a need to build fire stations. For segrigation we'll use the K-means algorithm.\n",
    "5. Not only will we suggest locations to build new fire-station, we'll also get to know which fire-station is most suitable to respond to a fire in any given neighborhood."
   ]
  },
  {
   "cell_type": "code",
   "execution_count": null,
   "metadata": {},
   "outputs": [],
   "source": []
  }
 ],
 "metadata": {
  "kernelspec": {
   "display_name": "Python 3",
   "language": "python",
   "name": "python3"
  },
  "language_info": {
   "codemirror_mode": {
    "name": "ipython",
    "version": 3
   },
   "file_extension": ".py",
   "mimetype": "text/x-python",
   "name": "python",
   "nbconvert_exporter": "python",
   "pygments_lexer": "ipython3",
   "version": "3.7.4"
  }
 },
 "nbformat": 4,
 "nbformat_minor": 2
}
